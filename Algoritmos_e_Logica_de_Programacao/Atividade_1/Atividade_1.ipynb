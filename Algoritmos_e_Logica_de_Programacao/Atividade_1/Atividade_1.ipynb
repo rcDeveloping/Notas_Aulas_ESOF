{
 "cells": [
  {
   "cell_type": "markdown",
   "id": "7ea8fa96",
   "metadata": {},
   "source": [
    "# ATIVIDADE 1 - ESOFT - ALGORITMOS E LÓGICA DE PROGRAMAÇÃO II - 52/2022"
   ]
  },
  {
   "cell_type": "markdown",
   "id": "598869c3",
   "metadata": {},
   "source": [
    "Em um programa desenvolvido na Linguagem C, foi solicitado que o desenvolvedor criasse uma lógica que calculasse a média de três notas e, logo após, indicasse ao usuário se o aluno foi reprovado (média abaixo de 5), se ficou em recuperação (média entre 5 e 6.9) ou aprovado (acima de 7). Entretanto, o usuário acusa que o programa está com problema, pois ao digitar as três notas, o valor da média se for abaixo de 7 mostra na tela o status errado.\n",
    "\n",
    "Observe o código desenvolvido pelo programador e aponte em que linhas podem conter os erros que estejam mostrando o status errado, justificando o erro. Logo após a identificação das linhas e justificativa do erro indique qual a correção que deverá ser feita no código para que o cálculo fique correto."
   ]
  },
  {
   "cell_type": "raw",
   "id": "0011cdf2",
   "metadata": {},
   "source": [
    "1- #include <stdio.h>\n",
    "2 - int main(int argc, char const *argv[]){\n",
    "3 -     float p1, p2, p3, media = 0.0;\n",
    "4 -\n",
    "5 -     printf(\"Digite a nota 1\\n\");\n",
    "6 -     scanf(\"%f\", &p1);\n",
    "7 -     printf(\"Digite a nota 2\\n\");\n",
    "8 -     scanf(\"%f\", &p2);\n",
    "9 -     printf(\"Digite a nota 3\\n\");\n",
    "10 -   scanf(\"%f\", &p3);\n",
    "11 -\n",
    "12 -   media = (p1+p2+p3)/3;\n",
    "13 -   printf(\"Média calculada %f\\n\", media);\n",
    "14 -\n",
    "15 -   if(media <= 5){\n",
    "16 -        printf(\"Reprovado\\n\");\n",
    "17-    }\n",
    "18 -   if(media <= 7){\n",
    "19 -         printf(\"Recuperação\\n\");\n",
    "20 -   }\n",
    "21 -   if(media <= 10){\n",
    "22 -          printf(\"Aprovado\\n\");\n",
    "23 -   }\n",
    "24 -\n",
    "25 -   return 0;\n",
    "26 - }"
   ]
  },
  {
   "cell_type": "markdown",
   "id": "5ce4f581",
   "metadata": {},
   "source": [
    "### Resposta"
   ]
  },
  {
   "cell_type": "markdown",
   "id": "e81e1ce9",
   "metadata": {},
   "source": [
    "O problema está nas linhas 18 e 21. Na linha 18 deveria usar um `else if`, e na linha 21 um `else`. Ao usar `if` nas duas primeiras condições a serem testadas, sempre que a média for menor ou iguar a 7, o programa imprimirá \"Reprovado\" e \n",
    "\"Recuperação\", pois 7 é menor ou igual a 7 e menor ou igual a 5."
   ]
  },
  {
   "cell_type": "raw",
   "id": "f880da56",
   "metadata": {},
   "source": [
    "#include <stdio.h>\n",
    "#include <locale.h>\n",
    "\n",
    "int main(int argc, char *argv[]) {\n",
    "\tfloat p1, p2, p3, media = 0.0;\n",
    "\t\n",
    "\tprintf(\"Digite a nota 1\\n\");\n",
    " \tscanf(\"%f\", &p1);\n",
    " \tprintf(\"Digite a nota 2\\n\");\n",
    " \tscanf(\"%f\", &p2);\n",
    " \tprintf(\"Digite a nota 3\\n\");\n",
    " \tscanf(\"%f\", &p3);\n",
    " \t\n",
    " \tmedia = (p1+p2+p3)/3;\n",
    " \t\n",
    " \tsetlocale(LC_ALL, \"Portuguese\");\n",
    " \t\n",
    "\tprintf(\"Média calculada %f\\n\", media);\n",
    " \t\n",
    " \tif (media <= 5) {\n",
    " \t\tprintf(\"Reprovado\\n\");\n",
    "\t}\n",
    "\tif (media <= 7) {\n",
    "\t\tprintf(\"Recuperação\\n\");\n",
    "\t} \n",
    "\tif (media <= 10) {\n",
    "\t\tprintf(\"Aprovado\\n\");\n",
    "\t}\n",
    "\treturn 0;\n",
    "}"
   ]
  },
  {
   "cell_type": "code",
   "execution_count": null,
   "id": "60af3f10",
   "metadata": {},
   "outputs": [],
   "source": []
  }
 ],
 "metadata": {
  "kernelspec": {
   "display_name": "Python 3 (ipykernel)",
   "language": "python",
   "name": "python3"
  },
  "language_info": {
   "codemirror_mode": {
    "name": "ipython",
    "version": 3
   },
   "file_extension": ".py",
   "mimetype": "text/x-python",
   "name": "python",
   "nbconvert_exporter": "python",
   "pygments_lexer": "ipython3",
   "version": "3.9.12"
  }
 },
 "nbformat": 4,
 "nbformat_minor": 5
}
