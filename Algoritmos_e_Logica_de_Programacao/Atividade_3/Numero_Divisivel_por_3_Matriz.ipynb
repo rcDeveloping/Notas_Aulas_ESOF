{
 "cells": [
  {
   "cell_type": "markdown",
   "id": "d7348b4c",
   "metadata": {},
   "source": [
    "# ATIVIDADE 3 - ESOFT - ALGORITMOS E LÓGICA DE PROGRAMAÇÃO II - 52/2022"
   ]
  },
  {
   "cell_type": "markdown",
   "id": "0eb857e3",
   "metadata": {},
   "source": [
    "O código abaixo representa um programa na linguagem em C cujo objetivo é escrever na tela os números que são divisíveis por 3 de uma matriz.\n",
    "Entretanto no código está faltando a implementação da sub-rotina que faz a busca dos números divisíveis e escreve na tela. Deve ser escrito na tela a linha e a coluna da matriz que se encontra o número divisível por 3 bem como o próprio número, exemplo:\n",
    "\n",
    "`Número divisível por 3 encontrado na linha 1, coluna 1, numero 15`\n",
    "\n",
    "`Número divisível por 3 encontrado na linha 1, coluna 2, numero 9`\n",
    "\n",
    "**Importante**: a coluna e a linha devem ser iniciadas do valor 1, diferente do vetor da linguagem C"
   ]
  },
  {
   "cell_type": "markdown",
   "id": "4f81577d",
   "metadata": {},
   "source": [
    "Com base no contexto apresentado acima, considere o código a seguir e implemente a sub-rotina faltante:\n"
   ]
  },
  {
   "cell_type": "code",
   "execution_count": 4,
   "id": "d822b1c2",
   "metadata": {},
   "outputs": [],
   "source": [
    "\"\"\"\n",
    "#include <stdio.h>\n",
    "\n",
    "//Código que deve ser inserido aqui\n",
    "\n",
    "int main(int argc, char const *argv[])\n",
    "{\n",
    "    //Matriz com valores fixo para nao fazer a leitura\n",
    "    int matriz[5][5] = {{15,9,23,43,49},\n",
    "                        {3,36,55,53,18},\n",
    "                        {12,42,51,57,34},\n",
    "                        {6,32,28,25,62},\n",
    "                        {72,91,81,16,41}};\n",
    "    \n",
    "    identificarDivisivelPor3(matriz);\n",
    "\n",
    "    return 0;\n",
    "}\n",
    "\"\"\";"
   ]
  },
  {
   "cell_type": "markdown",
   "id": "6ccfe98b",
   "metadata": {},
   "source": [
    "## Solução em Python"
   ]
  },
  {
   "cell_type": "code",
   "execution_count": 1,
   "id": "c5fb760b",
   "metadata": {},
   "outputs": [],
   "source": [
    "matriz = [[15, 9, 23, 43, 49],\n",
    "         [3, 36, 55, 53, 18],\n",
    "         [12, 42, 51, 57, 34],\n",
    "         [6, 32, 28, 25, 62],\n",
    "         [72, 91, 81, 16, 41]]"
   ]
  },
  {
   "cell_type": "code",
   "execution_count": 43,
   "id": "625fad92",
   "metadata": {},
   "outputs": [],
   "source": [
    "def three_div(matrix):\n",
    "    \n",
    "    \"\"\"Função para indicar que elementos de uma\n",
    "    matriz são divisíveis por 3.\"\"\"\n",
    "    \n",
    "    for row in range(len(matrix)):\n",
    "        for col in range(len(matrix)):\n",
    "            if matrix[row][col] % 3 == 0:\n",
    "                print(f'Número divisível por 3 encontrado na linha {row+1}, coluna {col+1}, número {matrix[row][col]:2d}')\n",
    "    "
   ]
  },
  {
   "cell_type": "code",
   "execution_count": 44,
   "id": "3cf12718",
   "metadata": {
    "scrolled": true
   },
   "outputs": [
    {
     "name": "stdout",
     "output_type": "stream",
     "text": [
      "Número divisível por 3 encontrado na linha 1, coluna 1, número 15\n",
      "Número divisível por 3 encontrado na linha 1, coluna 2, número  9\n",
      "Número divisível por 3 encontrado na linha 2, coluna 1, número  3\n",
      "Número divisível por 3 encontrado na linha 2, coluna 2, número 36\n",
      "Número divisível por 3 encontrado na linha 2, coluna 5, número 18\n",
      "Número divisível por 3 encontrado na linha 3, coluna 1, número 12\n",
      "Número divisível por 3 encontrado na linha 3, coluna 2, número 42\n",
      "Número divisível por 3 encontrado na linha 3, coluna 3, número 51\n",
      "Número divisível por 3 encontrado na linha 3, coluna 4, número 57\n",
      "Número divisível por 3 encontrado na linha 4, coluna 1, número  6\n",
      "Número divisível por 3 encontrado na linha 5, coluna 1, número 72\n",
      "Número divisível por 3 encontrado na linha 5, coluna 3, número 81\n"
     ]
    }
   ],
   "source": [
    "three_div(matriz)"
   ]
  }
 ],
 "metadata": {
  "kernelspec": {
   "display_name": "Python 3 (ipykernel)",
   "language": "python",
   "name": "python3"
  },
  "language_info": {
   "codemirror_mode": {
    "name": "ipython",
    "version": 3
   },
   "file_extension": ".py",
   "mimetype": "text/x-python",
   "name": "python",
   "nbconvert_exporter": "python",
   "pygments_lexer": "ipython3",
   "version": "3.9.12"
  }
 },
 "nbformat": 4,
 "nbformat_minor": 5
}
