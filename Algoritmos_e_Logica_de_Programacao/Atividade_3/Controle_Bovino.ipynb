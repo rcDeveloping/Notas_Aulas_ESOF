{
 "cells": [
  {
   "cell_type": "markdown",
   "id": "b25ac936",
   "metadata": {},
   "source": [
    "# ATIVIDADE 3 - ESOFT - ALGORITMOS E LÓGICA DE PROGRAMAÇÃO I - 52/2022"
   ]
  },
  {
   "cell_type": "markdown",
   "id": "bb49a736",
   "metadata": {},
   "source": [
    "### Contrução de um algoritmo para controle bovino\n",
    "\n",
    "Em uma fazenda os gados são marcados com números inteiros. O fazendeiro em questão possui uma quantidade de 42 gados e precisa fazer uma separação em dois campos de pastagens distintos. Para isso ele decidiu colocar os gados com marcação de números pares no pasto de número 1 e gados com números impares no pasto 2. Você com ideia de automatizar essa separação e propôs a criação de um algoritmo que faz a leitura dos números dos 42 gados e separa por ímpar ou par em dois vetores distintos, após a leitura mostre na tela os dois vetores, pois eles que indicarão qual gado deverá ir para qual pasto.\n",
    "\n",
    "**Regras:**\n",
    " 1. O algoritmo poderá considerar que o usuário não irá repetir o número do gado na leitura.\n",
    " 2. Os vetores devem armazenar os números de forma sequencial, ou seja não poderá pular posições em seu armazenamento."
   ]
  },
  {
   "cell_type": "markdown",
   "id": "689c90a0",
   "metadata": {},
   "source": [
    "## Solução usando Python"
   ]
  },
  {
   "cell_type": "code",
   "execution_count": 2,
   "id": "ccd554dc",
   "metadata": {},
   "outputs": [],
   "source": [
    "import os\n",
    "\n",
    "def rebanho():\n",
    "    gado = []\n",
    "    pasto_1 = 0\n",
    "    pasto_2 = 0\n",
    "    \n",
    "    tamanho_rebanho = int(input(\"Informe o tamanho do rebanho: \"))\n",
    "    \n",
    "    cont = 0\n",
    "    while  cont < tamanho_rebanho:\n",
    "        cod = int(input(\"Informe o código do animal: \"))\n",
    "        os.system('cls')\n",
    "        if cod in gado:\n",
    "            print(\"Código já foi informado\")\n",
    "            os.system('cls')\n",
    "        else:\n",
    "            gado.append(cod)\n",
    "            cont += 1\n",
    "    for i in gado:\n",
    "        if i % 2 == 0:\n",
    "            pasto_1 += 1\n",
    "        else:\n",
    "            pasto_2 += 1\n",
    "    \n",
    "    print()        \n",
    "    print(f'Quantidade de gado pasto 1: {pasto_1}')\n",
    "    print(f'Quantidade de gado pasto 2: {pasto_2}')\n",
    "    "
   ]
  },
  {
   "cell_type": "code",
   "execution_count": 3,
   "id": "dbb71992",
   "metadata": {},
   "outputs": [
    {
     "name": "stdout",
     "output_type": "stream",
     "text": [
      "Informe o tamanho do rebanho: 5\n",
      "Informe o código do animal: 1\n",
      "Informe o código do animal: 1\n",
      "Código já foi informado\n",
      "Informe o código do animal: 2\n",
      "Informe o código do animal: 3\n",
      "Informe o código do animal: 4\n",
      "Informe o código do animal: 5\n",
      "\n",
      "Quantidade de gado pasto 1: 2\n",
      "Quantidade de gado pasto 2: 3\n"
     ]
    }
   ],
   "source": [
    "rebanho()"
   ]
  },
  {
   "cell_type": "markdown",
   "id": "bb4a4315",
   "metadata": {},
   "source": [
    "## Solução Usando C"
   ]
  },
  {
   "cell_type": "raw",
   "id": "b3cc0c4e",
   "metadata": {},
   "source": [
    "\"\"\"\n",
    "#include <stdio.h>\n",
    "#include <locale.h>\n",
    "\n",
    "int main () {\n",
    "\n",
    "\tint gado, par , impar, Qgado, Qantigo, vetorA[10];\n",
    "\n",
    "    \tpar = 0;\n",
    "    \tgado = 0; //contador\n",
    "    \timpar = 0;\n",
    "    \t\n",
    "\tsetlocale(LC_ALL, \"Portuguese\");\n",
    "\t\n",
    "\tprintf(\"Informe a Quantidade de Gados a Cadastrar: \\n\");\n",
    "\tscanf(\"%d\", &Qgado);\n",
    "\t\n",
    "    \twhile (gado != Qgado) {\n",
    "        \tfor (gado = 0; gado < Qgado; gado++) {\n",
    "        \t\tprintf(\"Digite o código do gado: \\n\");\n",
    "\t\t\tscanf(\"%d\", &vetorA[gado]);\n",
    "            \t\tif (vetorA[gado] == gado) {\n",
    "        \t\t\tprintf(\"Código repetido, digite novamente: \\n\");\n",
    "\t\t\t\tscanf(\"%d\", &vetorA[gado]);\n",
    "       \t\t\t}\n",
    "\t\t}\n",
    "\t}\n",
    "\t\n",
    "\tfor (gado = 0; gado < Qgado; gado++) {\n",
    "\t\tif (vetorA[gado] % 2 == 0) {\n",
    "\t\t\tpar++;\n",
    "\t\t}\n",
    "\t\telse {\n",
    "\t\t\timpar++;\n",
    "\t\t}\n",
    "\t}\n",
    "     \t\n",
    "        printf(\"\\nTotal de gados no Pasto 1: %d\\n\", par);\n",
    "        printf(\"Total de gados no Pasto 2: %d\\n\", impar);\n",
    "\t\n",
    "\tgetch();\n",
    "        return 0;\n",
    "}\n",
    "\"\"\";"
   ]
  },
  {
   "cell_type": "code",
   "execution_count": null,
   "id": "4abc4124",
   "metadata": {},
   "outputs": [],
   "source": []
  }
 ],
 "metadata": {
  "kernelspec": {
   "display_name": "Python 3 (ipykernel)",
   "language": "python",
   "name": "python3"
  },
  "language_info": {
   "codemirror_mode": {
    "name": "ipython",
    "version": 3
   },
   "file_extension": ".py",
   "mimetype": "text/x-python",
   "name": "python",
   "nbconvert_exporter": "python",
   "pygments_lexer": "ipython3",
   "version": "3.9.12"
  }
 },
 "nbformat": 4,
 "nbformat_minor": 5
}
