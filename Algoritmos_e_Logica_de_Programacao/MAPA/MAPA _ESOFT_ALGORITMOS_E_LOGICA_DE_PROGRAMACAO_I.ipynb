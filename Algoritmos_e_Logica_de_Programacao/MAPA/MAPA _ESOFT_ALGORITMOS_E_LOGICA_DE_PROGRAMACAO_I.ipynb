{
 "cells": [
  {
   "cell_type": "markdown",
   "id": "680fa748",
   "metadata": {},
   "source": [
    "## MAPA - ESOFT - ALGORITMOS E LÓGICA DE PROGRAMAÇÃO I - 52/2022"
   ]
  },
  {
   "cell_type": "markdown",
   "id": "7bb070a6",
   "metadata": {},
   "source": [
    "Caro estudante,\n",
    "\n",
    "Temos por certo que os desafios sempre contribuem na aquisição de conhecimentos e competências desejadas. Sendo assim, faz-se necessário relacionar o que se aprende com situações reais que podem ser encontradas no cotidiano.\n",
    "Nesta atividade, você é convidado a realizar uma atividade para verificar como a disciplina em questão pode contribuir na sua experiência e formação profissional. Por este motivo, nesta\n",
    "atividade discursiva, você é instigado a solucionar um problema voltado para sua área de formação.\n",
    "Atente-se para as informações e realize um ótimo trabalho!"
   ]
  },
  {
   "cell_type": "markdown",
   "id": "dfd214db",
   "metadata": {},
   "source": [
    "### Algoritmo para controle de abastecimento de aeronaves\n",
    "\n",
    "Imagine que voce trabalhe na área de Tecnologia de uma companhia aérea de grande porte e foi solicitado a sua área que criasse um algoritmo para controle de abastecimento das aeronaves antes dos voos. Um Boeing 737-800 por exemplo, pode gastar em média 3,6 litros por km de voo. O gasto de uma aeronave de grande porte é tanto que a medição muda de eixo, sendo utilizado litros por quilômetros, diferente do que estamos acostumados a calcular nos automóveis que é quilômetros por litro. Um trecho de 1100km, como por exemplo de São Paulo a Porto Alegre precisaria de 3960 litros, sem contar a margem de segurança e outos fatores que podem alterar a quantidade.\n",
    "\n",
    "Para criação do algoritmo solicitado deverão ser considerados os seguintes dados para o calculo desejado, são eles:\n",
    "\n",
    "    - Média da aeronave em litros por quilômetros\n",
    "    - Capacidade máxima em litros do tanque\n",
    "    - Quantidade de quilômetros do trecho planejado\n",
    "    - Quantidade de quilômetros do trecho alternativo\n",
    "    - Quantidade de combustível já na aeronave"
   ]
  },
  {
   "cell_type": "markdown",
   "id": "92e06e26",
   "metadata": {},
   "source": [
    "### O algoritmo deve conter as seguintes regras\n",
    "    - Uma aeronave deve sempre ser abastecida considerando o `trecho planejado + trecho alternativo`, visto que se o aeroporto de destino estiver com problemas, uma rota alternativa deverá ser realizada.\n",
    "    - Além do trecho total, uma margem de 30% de combustível deverá ser adicionada, para que qualquer emergência a aeronave esteja com uma quantidade segura de combustível.\n",
    "    - Se o trecho total mais a margem de segurança, extrapolarem a capacidade máxima de combustível do tanque da aeronave, uma mensagem de alerta deve ser mostrada na tela, dizendo a seguinte mensagem “Voo Reprovado, reveja seu planejamento.”. Caso contrário mostrar \"Voo Aprovado, bom voo!\"\n",
    "    - Se o tanque suportar o trecho total mais a margem de segurança o algoritmo deverá mostrar na tela o valor do trecho principal, trecho alternativo, total do trecho com a margem de segurança, quantidade de combustível necessária para o trecho e quantidade necessária de abastecimento.\n",
    "    - Use sub-rotinas para isolar as lógicas do algoritmo"
   ]
  },
  {
   "cell_type": "markdown",
   "id": "51e4c0eb",
   "metadata": {},
   "source": [
    "### Sequencia lógica do algoritmo\n",
    "    - Leitura dos dados\n",
    "    - Somar trecho `planejado + trecho alternativo`\n",
    "    - Adicionar margem de segurança\n",
    "    - Calcular a quantidade de combustível\n",
    "    - Verificar se a quantidade de combustível comporta na aeronave\n",
    "    - Verificar o quanto de combustível será necessário para abastecimento.\n",
    "    - Mostrar resultados."
   ]
  },
  {
   "cell_type": "markdown",
   "id": "5d2ec69b",
   "metadata": {},
   "source": [
    "*** Dicas para realizar a atividade:**\n",
    "1. Durante as aulas, o professor irá fornecer dicas que podem ser utilizadas para a confecção das suas atividades, sendo assim, é de suma importância participar da aula ao vivo, ou assisti-las\n",
    "posteriormente, e\n",
    "2. Assista às aulas conceituais da disciplina."
   ]
  },
  {
   "cell_type": "markdown",
   "id": "a39e4d30",
   "metadata": {},
   "source": [
    "## Dados Sobre Tanque de Aeronaves\n",
    "### Airbus\n",
    "A380 – 323.546 litros (253.983 quilos)\n",
    "\n",
    "A350-1000 – 165.000 l (129.500 kg)\n",
    "\n",
    "A350-900 – 138.000 l (108.330 kg)\n",
    "\n",
    "A340-500/600 – 195.010 l (153.082 kg)\n",
    "\n",
    "A340-200/300 – 140.640 l (110.402 kg)\n",
    "\n",
    "A330-200/300/800/900 – 139.090 l (109.185 kg)\n",
    "\n",
    "A321/neo – 32.853 l (25.780 kg)\n",
    "\n",
    "A320/neo – 29.659 l (23.282 kg)\n",
    "\n",
    "A319/neo – 23.859 l (18.729 kg)\n",
    "\n",
    "### Boeing\n",
    "B747-8 – 238.610 l (193.280 kg)\n",
    "\n",
    "B747-400 – 215.991 l (173.425 kg)\n",
    "\n",
    "B777-9 – 197.977 l (158.976 kg)\n",
    "\n",
    "B777-200LR/300ER – 181.283 l (145.538 kg)\n",
    "\n",
    "B787-9/10 – 126.429 l (101.522 kg)\n",
    "\n",
    "B787-8 – 126.206 l (101.343 kg)\n",
    "\n",
    "B767-300ER – 91.380 l (73.364 kg)\n",
    "\n",
    "B757-200 – 42.680 l (34.260 kg)\n",
    "\n",
    "B737-700/800/900 – 26.022 l (20.894 kg)\n",
    "\n",
    "B737-7/8 MAX – 25.816 l (20.730 kg)\n",
    "\n",
    "##  Embraer\n",
    "E190/195 (E1) – 16.029 l (13.100 kg)\n",
    "\n",
    "E190 (E2) – 16.800 l (13.500 kg)\n",
    "\n",
    "E195 (E2) – 17.060 l (13.690 kg)\n",
    "\n",
    "E175 (E1) – 11.625 l (9.428 kg)\n",
    "\n",
    "_Fonte_: [Aeroin](https://aeroin.net/quantos-litros-de-combustivel-cabem-nos-tanques-dos-avioes-de-passageiros/)"
   ]
  },
  {
   "cell_type": "code",
   "execution_count": 30,
   "id": "b2c52997",
   "metadata": {},
   "outputs": [],
   "source": [
    "# Dicionário com os modelos de aeronaves\n",
    "aircrafts = {'A380': 323546, 'A350-1000': 165000, 'A350-900': 138000,\n",
    "             'A340-500': 195010, 'A340-600': 195010, 'A340-200': 140640, \n",
    "             'A340-300': 140640, 'A330-200': 139090, 'A330-300': 139090,\n",
    "             'A330-800': 139090, 'A330-900': 139090, 'A321/neo': 32853,\n",
    "             'A320/neo': 29659, 'A319/neo': 23859, 'B747-8': 238610,\n",
    "             'B747-400': 215991, 'B777-9': 197977, 'B777-200LR': 181283,\n",
    "             'B777-300ER': 181283, 'B787-9': 126429, 'B787-10': 126429,\n",
    "             'B787-8': 126206, 'B767-300ER': 91380, 'B757-200': 42680,\n",
    "             'B737-700': 26022, 'B737-800': 26022, 'B737-900': 26022,\n",
    "             'B737-7 MAX': 25816, 'B737-8 MAX': 25816, 'E190/195': 16029}\n",
    "\n",
    "# Função\n",
    "def calc_trecho_aereo():\n",
    "    \"\"\"Algorítmo para planejamento de rota aérea\n",
    "    \"\"\"\n",
    "    \n",
    "    # Obter o modelo da aeronave\n",
    "    aircraft = input('Informe o modelo da aeronave: \\n->>> ')\n",
    "    \n",
    "    # Obter o tamanho do tanque\n",
    "    tank = [j for i, j in aircrafts.items() if aircraft == i]\n",
    "    \n",
    "    # Obter o consumo de combustível por km\n",
    "    fuel_con = float(input('Informe quantos litros de consumo por kilometro: \\n>>> '))\n",
    "    \n",
    "    # Rota principal\n",
    "    route_1 = float(input('Informe a distância da rota principal (km): \\n>>> '))\n",
    "    \n",
    "    # Rota alternativa\n",
    "    route_2 = float(input('Informe a distância da rota alternativa (km): \\n>>> '))\n",
    "    \n",
    "    # Distância total\n",
    "    route_tot = route_1 + route_2\n",
    "    \n",
    "    # Combustível presente no tanque da aeronave\n",
    "    raim_fuel = float(input('Quantos litros de combustível restam no tanque? \\n>>>'))\n",
    "    \n",
    "    # Quantidade de combustível para o treho, incluindo margem de segurança.\n",
    "    fuel = (3.6 * route_tot - raim_fuel) * 1,3\n",
    "    \n",
    "    # Verificar se a quantidade de combustível comporta na aeronave\n",
    "    if fuel <= float(tank[0]):\n",
    "        return print(f'Para o trecho informado serão necessários {fuel:.2f} litros de combustível.')\n",
    "    else:\n",
    "        return print(f'Para o trecho informado são necessários {fuel:.f} litros de combustível, \\nporém a aeronave {aircraft} tem capacidade para {float(tank[0]):.2f} litros.')"
   ]
  },
  {
   "cell_type": "code",
   "execution_count": 29,
   "id": "d46c8e50",
   "metadata": {},
   "outputs": [
    {
     "name": "stdout",
     "output_type": "stream",
     "text": [
      "Informe o modelo da aeronave: \n",
      "->>> A380\n",
      "Informe quantos litros de consumo por kilometro: \n",
      ">>> 3.6\n",
      "Informe a distância da rota principal (km): \n",
      ">>> 800\n",
      "Informe a distância da rota alternativa (km): \n",
      ">>> 560\n",
      "Quantos litros de combustível restam no tanque? \n",
      ">>>100\n",
      "Para o trecho informado serão necessários 4796.00 litros de combustível.\n"
     ]
    }
   ],
   "source": [
    "calc_trecho_aereo()"
   ]
  },
  {
   "cell_type": "code",
   "execution_count": null,
   "id": "4555c795",
   "metadata": {},
   "outputs": [],
   "source": []
  },
  {
   "cell_type": "code",
   "execution_count": null,
   "id": "89ff7834",
   "metadata": {},
   "outputs": [],
   "source": []
  }
 ],
 "metadata": {
  "kernelspec": {
   "display_name": "Python 3 (ipykernel)",
   "language": "python",
   "name": "python3"
  },
  "language_info": {
   "codemirror_mode": {
    "name": "ipython",
    "version": 3
   },
   "file_extension": ".py",
   "mimetype": "text/x-python",
   "name": "python",
   "nbconvert_exporter": "python",
   "pygments_lexer": "ipython3",
   "version": "3.9.12"
  }
 },
 "nbformat": 4,
 "nbformat_minor": 5
}
